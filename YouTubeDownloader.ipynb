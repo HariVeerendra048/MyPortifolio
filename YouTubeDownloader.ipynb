{
  "nbformat": 4,
  "nbformat_minor": 0,
  "metadata": {
    "colab": {
      "provenance": [],
      "mount_file_id": "1eKa8vjPKcslCUg5a91emSEl6VIDgHh1L",
      "authorship_tag": "ABX9TyOrFpB1iXr8amNYe+3l4YlU",
      "include_colab_link": true
    },
    "kernelspec": {
      "name": "python3",
      "display_name": "Python 3"
    },
    "language_info": {
      "name": "python"
    }
  },
  "cells": [
    {
      "cell_type": "markdown",
      "metadata": {
        "id": "view-in-github",
        "colab_type": "text"
      },
      "source": [
        "<a href=\"https://colab.research.google.com/github/HariVeerendra048/Portfolio/blob/main/YouTubeDownloader.ipynb\" target=\"_parent\"><img src=\"https://colab.research.google.com/assets/colab-badge.svg\" alt=\"Open In Colab\"/></a>"
      ]
    },
    {
      "cell_type": "code",
      "source": [
        "!pip install yt_dlp"
      ],
      "metadata": {
        "id": "5rbpndCg4RqQ"
      },
      "execution_count": null,
      "outputs": []
    },
    {
      "cell_type": "code",
      "execution_count": 7,
      "metadata": {
        "colab": {
          "base_uri": "https://localhost:8080/"
        },
        "id": "FE3VQ_u_4I98",
        "outputId": "1d32bc13-b9b8-4349-b1ed-9822dc4645a9"
      },
      "outputs": [
        {
          "output_type": "stream",
          "name": "stdout",
          "text": [
            "Copy & paste the URL of the YouTube video you want to download: https://youtu.be/zmvkV6sc984?si=68RNhwvaBZQKqZGs\n",
            "[youtube] Extracting URL: https://youtu.be/zmvkV6sc984?si=68RNhwvaBZQKqZGs\n",
            "[youtube] zmvkV6sc984: Downloading webpage\n",
            "[youtube] zmvkV6sc984: Downloading tv client config\n",
            "[youtube] zmvkV6sc984: Downloading player 1080ef44\n",
            "[youtube] zmvkV6sc984: Downloading tv player API JSON\n",
            "[youtube] zmvkV6sc984: Downloading ios player API JSON\n",
            "[youtube] zmvkV6sc984: Downloading m3u8 information\n",
            "[info] zmvkV6sc984: Downloading 1 format(s): 137+251\n",
            "[download] Destination: SAP Commerce Cloud B2C vs B2B = [5] Contact Us = ChennaReddyTraining@RRRS.CO.IN [zmvkV6sc984].f137.mp4\n",
            "[download] 100% of  293.24MiB in 00:00:25 at 11.62MiB/s  \n",
            "[download] Destination: SAP Commerce Cloud B2C vs B2B = [5] Contact Us = ChennaReddyTraining@RRRS.CO.IN [zmvkV6sc984].f251.webm\n",
            "[download] 100% of   56.04MiB in 00:00:15 at 3.67MiB/s   \n",
            "[Merger] Merging formats into \"SAP Commerce Cloud B2C vs B2B = [5] Contact Us = ChennaReddyTraining@RRRS.CO.IN [zmvkV6sc984].mp4\"\n",
            "Deleting original file SAP Commerce Cloud B2C vs B2B = [5] Contact Us = ChennaReddyTraining@RRRS.CO.IN [zmvkV6sc984].f251.webm (pass -k to keep)\n",
            "Deleting original file SAP Commerce Cloud B2C vs B2B = [5] Contact Us = ChennaReddyTraining@RRRS.CO.IN [zmvkV6sc984].f137.mp4 (pass -k to keep)\n"
          ]
        }
      ],
      "source": [
        "import yt_dlp\n",
        "\n",
        "def download_video(video_url):\n",
        "    ydl_opts = {\n",
        "        'format': 'bestvideo+bestaudio/best',  # Downloads the best video and audio available\n",
        "        'merge_output_format': 'mp4'  # Ensures the final output is in MP4 format\n",
        "    }\n",
        "    with yt_dlp.YoutubeDL(ydl_opts) as ydl:\n",
        "        ydl.download([video_url])\n",
        "\n",
        "if __name__ == \"__main__\":\n",
        "    link = input(\"Copy & paste the URL of the YouTube video you want to download: \")\n",
        "    download_video(link)\n"
      ]
    },
    {
      "cell_type": "code",
      "source": [
        "import yt_dlp\n",
        "\n",
        "def download_video(video_url):\n",
        "    ydl_opts = {\n",
        "        'format': 'bestvideo+bestaudio/best',  # Downloads the best video and audio available\n",
        "        'merge_output_format': 'mp4'  # Ensures the final output is in MP4 format\n",
        "    }\n",
        "    with yt_dlp.YoutubeDL(ydl_opts) as ydl:\n",
        "        ydl.download([video_url])\n",
        "\n",
        "if __name__ == \"__main__\":\n",
        "    link = input(\"Copy & paste the URL of the YouTube video you want to download: \")\n",
        "    download_video(link)\n"
      ],
      "metadata": {
        "colab": {
          "base_uri": "https://localhost:8080/"
        },
        "id": "EhRDiTkPApiB",
        "outputId": "9580cf54-f757-41e1-9006-6ae8c2dbec5e"
      },
      "execution_count": 6,
      "outputs": [
        {
          "output_type": "stream",
          "name": "stdout",
          "text": [
            "Copy & paste the URL of the YouTube video you want to download: https://youtu.be/mPk4X0YKJnk?si=wZfdM60gJhKdvixs\n",
            "[youtube] Extracting URL: https://youtu.be/mPk4X0YKJnk?si=wZfdM60gJhKdvixs\n",
            "[youtube] mPk4X0YKJnk: Downloading webpage\n",
            "[youtube] mPk4X0YKJnk: Downloading tv client config\n",
            "[youtube] mPk4X0YKJnk: Downloading player 1080ef44\n",
            "[youtube] mPk4X0YKJnk: Downloading tv player API JSON\n",
            "[youtube] mPk4X0YKJnk: Downloading ios player API JSON\n",
            "[youtube] mPk4X0YKJnk: Downloading m3u8 information\n",
            "[info] mPk4X0YKJnk: Downloading 1 format(s): 137+251\n",
            "[download] Destination: SAP Commerce ACC, Spartacus, OCC, Pages & URLs = [4] Contact Us = ChennaReddyTraining@RRRS.CO.IN [mPk4X0YKJnk].f137.mp4\n",
            "[download] 100% of  657.87MiB in 00:00:29 at 22.59MiB/s  \n",
            "[download] Destination: SAP Commerce ACC, Spartacus, OCC, Pages & URLs = [4] Contact Us = ChennaReddyTraining@RRRS.CO.IN [mPk4X0YKJnk].f251.webm\n",
            "[download] 100% of   59.24MiB in 00:00:02 at 25.82MiB/s  \n",
            "[Merger] Merging formats into \"SAP Commerce ACC, Spartacus, OCC, Pages & URLs = [4] Contact Us = ChennaReddyTraining@RRRS.CO.IN [mPk4X0YKJnk].mp4\"\n",
            "Deleting original file SAP Commerce ACC, Spartacus, OCC, Pages & URLs = [4] Contact Us = ChennaReddyTraining@RRRS.CO.IN [mPk4X0YKJnk].f137.mp4 (pass -k to keep)\n",
            "Deleting original file SAP Commerce ACC, Spartacus, OCC, Pages & URLs = [4] Contact Us = ChennaReddyTraining@RRRS.CO.IN [mPk4X0YKJnk].f251.webm (pass -k to keep)\n"
          ]
        }
      ]
    },
    {
      "cell_type": "code",
      "source": [
        "<!DOCTYPE html>\n",
        "<html lang=\"en\">\n",
        "<head>\n",
        "    <meta charset=\"UTF-8\">\n",
        "    <meta name=\"viewport\" content=\"width=device-width, initial-scale=1.0\">\n",
        "    <title>SAP playlist</title>\n",
        "    <style>\n",
        "        body {\n",
        "            font-family: Arial, sans-serif;\n",
        "            text-align: center;\n",
        "            background-color: #222;\n",
        "            color: white;\n",
        "        }\n",
        "        video {\n",
        "            width: 80%;\n",
        "            max-width: 800px;\n",
        "            margin-top: 20px;\n",
        "        }\n",
        "        ul {\n",
        "            list-style: none;\n",
        "            padding: 0;\n",
        "        }\n",
        "        li {\n",
        "            cursor: pointer;\n",
        "            padding: 10px;\n",
        "            border: 1px solid #555;\n",
        "            margin: 5px;\n",
        "            background: #333;\n",
        "        }\n",
        "        li:hover {\n",
        "            background: #555;\n",
        "        }\n",
        "    </style>\n",
        "</head>\n",
        "<body>\n",
        "    <h1>SAP Playlist</h1>\n",
        "    <video id=\"videoPlayer\" controls>\n",
        "        <source id=\"videoSource\" src=\"\" type=\"video/mp4\">\n",
        "    </video>\n",
        "    <!-- <h2>Available Videos</h2>\n",
        "    <ul id=\"videoList\"></ul> -->\n",
        "\n",
        "    <!-- <script>\n",
        "        document.addEventListener(\"DOMContentLoaded\", async function () {\n",
        "            try {\n",
        "                const response = await fetch(\"videos.json\"); // JSON file containing video filenames\n",
        "                const videos = await response.json();\n",
        "                const videoList = document.getElementById(\"videoList\");\n",
        "                const videoPlayer = document.getElementById(\"videoPlayer\");\n",
        "                const videoSource = document.getElementById(\"videoSource\");\n",
        "\n",
        "                videos.forEach(video => {\n",
        "                    let listItem = document.createElement(\"li\");\n",
        "                    listItem.textContent = video;\n",
        "                    listItem.onclick = function () {\n",
        "                        videoSource.src = video;\n",
        "                        videoPlayer.load();\n",
        "                        videoPlayer.play();\n",
        "                    };\n",
        "                    videoList.appendChild(listItem);\n",
        "                });\n",
        "            } catch (error) {\n",
        "                console.error(\"Error loading video list:\", error);\n",
        "            }\n",
        "        });\n",
        "    </script> -->\n",
        "</body>\n",
        "</html>\n"
      ],
      "metadata": {
        "id": "KMVhodrC653q"
      },
      "execution_count": null,
      "outputs": []
    }
  ]
}